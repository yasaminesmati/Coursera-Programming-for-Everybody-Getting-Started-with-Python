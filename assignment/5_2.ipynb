{
  "nbformat": 4,
  "nbformat_minor": 0,
  "metadata": {
    "colab": {
      "name": "5.2.ipynb",
      "provenance": [],
      "authorship_tag": "ABX9TyPgN2UuHj1Rm5YswV6F9/8Z",
      "include_colab_link": true
    },
    "kernelspec": {
      "name": "python3",
      "display_name": "Python 3"
    },
    "language_info": {
      "name": "python"
    }
  },
  "cells": [
    {
      "cell_type": "markdown",
      "metadata": {
        "id": "view-in-github",
        "colab_type": "text"
      },
      "source": [
        "<a href=\"https://colab.research.google.com/github/yasminesmati/Coursera-Programming-for-Everybody-Getting-Started-with-Python/blob/main/assignment/5_2.ipynb\" target=\"_parent\"><img src=\"https://colab.research.google.com/assets/colab-badge.svg\" alt=\"Open In Colab\"/></a>"
      ]
    },
    {
      "cell_type": "code",
      "execution_count": 6,
      "metadata": {
        "id": "o88Qem0WM6F5"
      },
      "outputs": [],
      "source": [
        "#Write a program that repeatedly prompts a user for integer numbers until the user enters 'done'. \n",
        "#Once 'done' is entered, print out the largest and smallest of the numbers. \n",
        "#If the user enters anything other than a valid number catch it with a try/except and put out an appropriate message and ignore the number. \n",
        "#Enter 7, 2, bob, 10, and 4 and match the output below."
      ]
    },
    {
      "cell_type": "code",
      "source": [
        "largest = None\n",
        "smallest = None\n",
        "list=[]\n",
        "while True:\n",
        "    num = input(\"Enter a number: \")\n",
        "    if num == \"done\":\n",
        "        break\n",
        "    try:\n",
        "        num=int(num)\n",
        "        list.append(num)\n",
        "    except:   \n",
        "    \tprint(\"Invalid input\")\n",
        "largest=max(list)\n",
        "smallest=min(list)\n",
        "print(\"Maximum is\", largest)\n",
        "print(\"Minimum is\", smallest)"
      ],
      "metadata": {
        "colab": {
          "base_uri": "https://localhost:8080/"
        },
        "id": "wK-buGo8SZZy",
        "outputId": "d2b21734-e0ec-4936-bed6-3d65acf60384"
      },
      "execution_count": 10,
      "outputs": [
        {
          "output_type": "stream",
          "name": "stdout",
          "text": [
            "Enter a number: 7\n",
            "Enter a number: 2\n",
            "Enter a number: bob\n",
            "Invalid input\n",
            "Enter a number: 10\n",
            "Enter a number: 4\n",
            "Enter a number: done\n",
            "Maximum is 10\n",
            "Minimum is 2\n"
          ]
        }
      ]
    }
  ]
}