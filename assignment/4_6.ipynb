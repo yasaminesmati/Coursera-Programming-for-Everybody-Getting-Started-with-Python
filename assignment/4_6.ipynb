{
  "nbformat": 4,
  "nbformat_minor": 0,
  "metadata": {
    "colab": {
      "name": "4.6.ipynb",
      "provenance": [],
      "authorship_tag": "ABX9TyPTUQ5rvHLmYu6VPxwmXrk6",
      "include_colab_link": true
    },
    "kernelspec": {
      "name": "python3",
      "display_name": "Python 3"
    },
    "language_info": {
      "name": "python"
    }
  },
  "cells": [
    {
      "cell_type": "markdown",
      "metadata": {
        "id": "view-in-github",
        "colab_type": "text"
      },
      "source": [
        "<a href=\"https://colab.research.google.com/github/yasminesmati/Coursera-Programming-for-Everybody-Getting-Started-with-Python/blob/main/assignment/4_6.ipynb\" target=\"_parent\"><img src=\"https://colab.research.google.com/assets/colab-badge.svg\" alt=\"Open In Colab\"/></a>"
      ]
    },
    {
      "cell_type": "code",
      "execution_count": null,
      "metadata": {
        "id": "o88Qem0WM6F5"
      },
      "outputs": [],
      "source": [
        "#Write a program to prompt the user for hours and rate per hour using input to compute gross pay. \n",
        "#Pay should be the normal rate for hours up to 40 and time-and-a-half for the hourly rate for all hours worked above 40 hours. \n",
        "#Put the logic to do the computation of pay in a function called computepay() and use the function to do the computation. \n",
        "#The function should return a value. Use 45 hours and a rate of 10.50 per hour to test the program (the pay should be 498.75). \n",
        "#You should use input to read a string and float() to convert the string to a number. \n",
        "#Do not worry about error checking the user input unless you want to - you can assume the user types numbers properly. \n",
        "#Do not name your variable sum or use the sum() function."
      ]
    },
    {
      "cell_type": "code",
      "source": [
        "def computepay(h, r):\n",
        "     if h > 40:\n",
        "       p = 1.5 * r * (h - 40) + (40 *r)\n",
        "     elif h<40:\n",
        "       p = h * r\n",
        "     return p\n",
        "hrs = input(\"Enter Hours:\")\n",
        "hrs=float(hrs)\n",
        "r= input(\"Enter Rate:\")\n",
        "r=float(r)\n",
        "p = computepay(hrs,r)\n",
        "print(\"Pay\", p)"
      ],
      "metadata": {
        "colab": {
          "base_uri": "https://localhost:8080/"
        },
        "id": "5DmlOq5mP_zp",
        "outputId": "12c7df8d-ee72-4037-a375-c83f5aeaacef"
      },
      "execution_count": 5,
      "outputs": [
        {
          "output_type": "stream",
          "name": "stdout",
          "text": [
            "Enter Hours:45\n",
            "Enter Rate:10.50\n",
            "Pay 498.75\n"
          ]
        }
      ]
    }
  ]
}