{
  "nbformat": 4,
  "nbformat_minor": 0,
  "metadata": {
    "colab": {
      "name": "3.3.ipynb",
      "provenance": [],
      "authorship_tag": "ABX9TyNLpszQo3VxhBaC68oW5KPu",
      "include_colab_link": true
    },
    "kernelspec": {
      "name": "python3",
      "display_name": "Python 3"
    },
    "language_info": {
      "name": "python"
    }
  },
  "cells": [
    {
      "cell_type": "markdown",
      "metadata": {
        "id": "view-in-github",
        "colab_type": "text"
      },
      "source": [
        "<a href=\"https://colab.research.google.com/github/yasminesmati/Coursera-Programming-for-Everybody-Getting-Started-with-Python/blob/main/assignment/3_3.ipynb\" target=\"_parent\"><img src=\"https://colab.research.google.com/assets/colab-badge.svg\" alt=\"Open In Colab\"/></a>"
      ]
    },
    {
      "cell_type": "code",
      "execution_count": null,
      "metadata": {
        "id": "o88Qem0WM6F5"
      },
      "outputs": [],
      "source": [
        "#Write a program to prompt for a score between 0.0 and 1.0. \n",
        "#If the score is out of range, print an error. If the score is between 0.0 and 1.0, print a grade using the following table:\n",
        "#Score Grade\n",
        "#>= 0.9 A\n",
        "#>= 0.8 B\n",
        "#>= 0.7 C\n",
        "#>= 0.6 D\n",
        "#< 0.6 F\n",
        "#If the user enters a value out of range, print a suitable error message and exit. For the test, enter a score of 0.85."
      ]
    },
    {
      "cell_type": "code",
      "source": [
        "score = input(\"Enter Score: \")\n",
        "score=float(score)\n",
        "if score>=0.9:\n",
        "    print(\"A\")\n",
        "elif score >=0.8:\n",
        "    print(\"B\")\n",
        "elif score >=0.7:\n",
        "    print(\"C\")\n",
        "elif score >=0.6:\n",
        "    print(\"D\")    \n",
        "elif score< 0.6:\n",
        "    print(\"F\")\n",
        "else:\n",
        "    print(\"error\")\n",
        "   "
      ],
      "metadata": {
        "colab": {
          "base_uri": "https://localhost:8080/"
        },
        "id": "5DmlOq5mP_zp",
        "outputId": "cb5105ec-9983-45f9-ff39-862980877b17"
      },
      "execution_count": 4,
      "outputs": [
        {
          "output_type": "stream",
          "name": "stdout",
          "text": [
            "Enter Score: 0.85\n",
            "B\n"
          ]
        }
      ]
    }
  ]
}