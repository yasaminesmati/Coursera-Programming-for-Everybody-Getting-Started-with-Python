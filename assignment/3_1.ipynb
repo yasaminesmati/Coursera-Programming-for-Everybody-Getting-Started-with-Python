{
  "nbformat": 4,
  "nbformat_minor": 0,
  "metadata": {
    "colab": {
      "name": "3.1.ipynb",
      "provenance": [],
      "authorship_tag": "ABX9TyO3USUbQ3llOvFH/cA+eDtT",
      "include_colab_link": true
    },
    "kernelspec": {
      "name": "python3",
      "display_name": "Python 3"
    },
    "language_info": {
      "name": "python"
    }
  },
  "cells": [
    {
      "cell_type": "markdown",
      "metadata": {
        "id": "view-in-github",
        "colab_type": "text"
      },
      "source": [
        "<a href=\"https://colab.research.google.com/github/yasminesmati/Coursera-Programming-for-Everybody-Getting-Started-with-Python/blob/main/assignment/3_1.ipynb\" target=\"_parent\"><img src=\"https://colab.research.google.com/assets/colab-badge.svg\" alt=\"Open In Colab\"/></a>"
      ]
    },
    {
      "cell_type": "code",
      "execution_count": null,
      "metadata": {
        "id": "o88Qem0WM6F5"
      },
      "outputs": [],
      "source": [
        "#Write a program to prompt the user for hours and rate per hour using input to compute gross pay.\n",
        "#Pay the hourly rate for the hours up to 40 and 1.5 times the hourly rate for all hours worked above 40 hours. \n",
        "#Use 45 hours and a rate of 10.50 per hour to test the program (the pay should be 498.75). \n",
        "#You should use input to read a string and float() to convert the string to a number. \n",
        "#Do not worry about error checking the user input - assume the user types numbers properly."
      ]
    },
    {
      "cell_type": "code",
      "source": [
        "hours=input(\"Enter Hours:\")\n",
        "hours=float(hours)\n",
        "rate=input(\"Enter Rate:\")\n",
        "rate=float(rate)\n",
        "if hours>40:\n",
        "    rate1 = (rate * 1.5) * (hours-40)\n",
        "pay = ((hours-5)*rate) + rate1\n",
        "print (pay)   "
      ],
      "metadata": {
        "id": "5DmlOq5mP_zp",
        "outputId": "2a06b7b3-d657-4945-e38b-9a57416da670",
        "colab": {
          "base_uri": "https://localhost:8080/"
        }
      },
      "execution_count": 3,
      "outputs": [
        {
          "output_type": "stream",
          "name": "stdout",
          "text": [
            "Enter Hours:45\n",
            "Enter Rate:10.50\n",
            "498.75\n"
          ]
        }
      ]
    }
  ]
}