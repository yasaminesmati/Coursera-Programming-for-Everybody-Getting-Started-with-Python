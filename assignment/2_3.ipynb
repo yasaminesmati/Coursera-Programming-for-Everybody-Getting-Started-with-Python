{
  "nbformat": 4,
  "nbformat_minor": 0,
  "metadata": {
    "colab": {
      "name": "2.3.ipynb",
      "provenance": [],
      "authorship_tag": "ABX9TyO+BrxH69sEelr2WSjituRs",
      "include_colab_link": true
    },
    "kernelspec": {
      "name": "python3",
      "display_name": "Python 3"
    },
    "language_info": {
      "name": "python"
    }
  },
  "cells": [
    {
      "cell_type": "markdown",
      "metadata": {
        "id": "view-in-github",
        "colab_type": "text"
      },
      "source": [
        "<a href=\"https://colab.research.google.com/github/yasminesmati/Coursera-Programming-for-Everybody-Getting-Started-with-Python/blob/main/assignment/2_3.ipynb\" target=\"_parent\"><img src=\"https://colab.research.google.com/assets/colab-badge.svg\" alt=\"Open In Colab\"/></a>"
      ]
    },
    {
      "cell_type": "code",
      "execution_count": null,
      "metadata": {
        "id": "o88Qem0WM6F5"
      },
      "outputs": [],
      "source": [
        "#Write a program to prompt the user for hours and rate per hour using input to compute gross pay. \n",
        "#Use 35 hours and a rate of 2.75 per hour to test the program (the pay should be 96.25). \n",
        "#You should use input to read a string and float() to convert the string to a number.\n",
        "#Do not worry about error checking or bad user data."
      ]
    },
    {
      "cell_type": "code",
      "source": [
        "hrs = input(\"Enter Hours:\")\n",
        "hrs=float(hrs)\n",
        "rate =input(\"Enter Rate:\")\n",
        "rate=float(rate)\n",
        "pay= hrs*rate\n",
        "print (\"Pay:\",pay)"
      ],
      "metadata": {
        "colab": {
          "base_uri": "https://localhost:8080/"
        },
        "id": "vq5eeMtmNDeY",
        "outputId": "edd82473-63f5-4c91-ec86-edd3367176ec"
      },
      "execution_count": 2,
      "outputs": [
        {
          "output_type": "stream",
          "name": "stdout",
          "text": [
            "Enter Hours:35\n",
            "Enter Rate:2.75\n",
            "Pay: 96.25\n"
          ]
        }
      ]
    }
  ]
}